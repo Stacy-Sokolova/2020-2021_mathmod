{
 "cells": [
  {
   "cell_type": "code",
   "execution_count": 1,
   "id": "whole-commons",
   "metadata": {},
   "outputs": [],
   "source": [
    "import numpy as np\n",
    "from scipy.integrate import odeint\n",
    "import matplotlib.pyplot as plt"
   ]
  },
  {
   "cell_type": "code",
   "execution_count": 13,
   "id": "shared-perfume",
   "metadata": {},
   "outputs": [],
   "source": [
    "p_cr = 29 #критическая стоимость продукта\n",
    "tau1 = 21 #длительность производственного цикла фирмы 1\n",
    "p1 = 7 #себестоимость продукта у фирмы 1\n",
    "tau2 = 14 #длительность производственного цикла фирмы 2\n",
    "p2 = 11.5 #себестоимость продукта у фирмы 2\n",
    "V = 35 #число потребителей производимого продукта\n",
    "q = 1 #максимальная потребность одного человека в продукте в единицу времени"
   ]
  },
  {
   "cell_type": "code",
   "execution_count": 14,
   "id": "unexpected-institution",
   "metadata": {},
   "outputs": [],
   "source": [
    "a1 = p_cr/(tau1*tau1*p1*p1*V*q)\n",
    "a2 = p_cr/(tau2*tau2*p2*p2*V*q)\n",
    "b = p_cr/(tau1*tau1*tau2*tau2*p1*p1*p2*p2*V*q)\n",
    "c1 = (p_cr-p1)/(tau1*p1)\n",
    "c2 = (p_cr-p2)/(tau2*p2)"
   ]
  },
  {
   "cell_type": "code",
   "execution_count": 15,
   "id": "prescription-decline",
   "metadata": {},
   "outputs": [],
   "source": [
    "def syst(x, t): #случай 1\n",
    "    return np.array([x[0] - (a1/c1)*x[0]*x[0] - (b/c1)*x[0]*x[1], (c2/c1)*x[1] - (a2/c1)*x[1]*x[1] - (b/c1)*x[0]*x[1]])"
   ]
  },
  {
   "cell_type": "code",
   "execution_count": 16,
   "id": "editorial-least",
   "metadata": {},
   "outputs": [],
   "source": [
    "def syst1(x, t): #случай 2\n",
    "    return np.array([x[0] - (a1/c1)*x[0]*x[0] - (b/c1)*x[0]*x[1], (c2/c1)*x[1] - (a2/c1)*x[1]*x[1] - ((b/c1)+0.00023)*x[0]*x[1]])"
   ]
  },
  {
   "cell_type": "code",
   "execution_count": 19,
   "id": "pharmaceutical-ground",
   "metadata": {},
   "outputs": [],
   "source": [
    "x0 = np.array([4.4, 3.1]) #начальное значение объема оборотных средств x1 и х2\n",
    "t = np.linspace(0, 30, 500)\n",
    "y = odeint(syst1, x0, t)"
   ]
  },
  {
   "cell_type": "code",
   "execution_count": 20,
   "id": "infrared-player",
   "metadata": {},
   "outputs": [
    {
     "data": {
      "image/png": "[encoded data removed]",
      "text/plain": [
       "<Figure size 432x288 with 1 Axes>"
      ]
     },
     "metadata": {
      "needs_background": "light"
     },
     "output_type": "display_data"
    }
   ],
   "source": [
    "plt.plot(t, y)\n",
    "plt.show()"
   ]
  },
  {
   "cell_type": "code",
   "execution_count": null,
   "id": "lined-chocolate",
   "metadata": {},
   "outputs": [],
   "source": []
  }
 ],
 "metadata": {
  "kernelspec": {
   "display_name": "Python 3",
   "language": "python",
   "name": "python3"
  },
  "language_info": {
   "codemirror_mode": {
    "name": "ipython",
    "version": 3
   },
   "file_extension": ".py",
   "mimetype": "text/x-python",
   "name": "python",
   "nbconvert_exporter": "python",
   "pygments_lexer": "ipython3",
   "version": "3.9.2"
  }
 },
 "nbformat": 4,
 "nbformat_minor": 5
}
