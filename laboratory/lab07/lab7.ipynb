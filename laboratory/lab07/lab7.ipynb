{
 "cells": [
  {
   "cell_type": "code",
   "execution_count": 4,
   "id": "prime-constitution",
   "metadata": {},
   "outputs": [],
   "source": [
    "import numpy as np\n",
    "from scipy.integrate import odeint\n",
    "import matplotlib.pyplot as plt"
   ]
  },
  {
   "cell_type": "code",
   "execution_count": 5,
   "id": "skilled-chancellor",
   "metadata": {},
   "outputs": [],
   "source": [
    "x0 = 6\n",
    "N = 537\n",
    "t = np.linspace(0,30,800)"
   ]
  },
  {
   "cell_type": "code",
   "execution_count": 37,
   "id": "underlying-ancient",
   "metadata": {},
   "outputs": [],
   "source": [
    "def k(t):\n",
    "    #return 0.61\n",
    "    #return 0.000061\n",
    "    return 0.61*np.sin(t)"
   ]
  },
  {
   "cell_type": "code",
   "execution_count": 38,
   "id": "extended-allen",
   "metadata": {},
   "outputs": [],
   "source": [
    "def p(t):\n",
    "    #return 0.000061\n",
    "    #return 0.61\n",
    "    return 0.61*np.cos(t)"
   ]
  },
  {
   "cell_type": "code",
   "execution_count": 42,
   "id": "funny-presentation",
   "metadata": {},
   "outputs": [],
   "source": [
    "def f(x,t):\n",
    "    return (k(t)+p(t)*x)*(N-x)"
   ]
  },
  {
   "cell_type": "code",
   "execution_count": 43,
   "id": "electric-brazilian",
   "metadata": {},
   "outputs": [],
   "source": [
    "x = odeint(f, x0, t)"
   ]
  },
  {
   "cell_type": "code",
   "execution_count": 44,
   "id": "given-distance",
   "metadata": {},
   "outputs": [
    {
     "data": {
      "image/png": "[encoded data removed]",
      "text/plain": [
       "<Figure size 432x288 with 1 Axes>"
      ]
     },
     "metadata": {
      "needs_background": "light"
     },
     "output_type": "display_data"
    }
   ],
   "source": [
    "plt.plot(t, x)\n",
    "plt.xlabel('t')\n",
    "plt.ylabel('N')\n",
    "plt.show()"
   ]
  },
  {
   "cell_type": "code",
   "execution_count": null,
   "id": "swedish-deadline",
   "metadata": {},
   "outputs": [],
   "source": []
  }
 ],
 "metadata": {
  "kernelspec": {
   "display_name": "Python 3",
   "language": "python",
   "name": "python3"
  },
  "language_info": {
   "codemirror_mode": {
    "name": "ipython",
    "version": 3
   },
   "file_extension": ".py",
   "mimetype": "text/x-python",
   "name": "python",
   "nbconvert_exporter": "python",
   "pygments_lexer": "ipython3",
   "version": "3.9.2"
  }
 },
 "nbformat": 4,
 "nbformat_minor": 5
}
