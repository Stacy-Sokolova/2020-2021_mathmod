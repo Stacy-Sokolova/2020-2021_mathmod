{
 "cells": [
  {
   "cell_type": "code",
   "execution_count": 1,
   "id": "young-friend",
   "metadata": {},
   "outputs": [],
   "source": [
    "import numpy as np\n",
    "from scipy.integrate import odeint\n",
    "import matplotlib.pyplot as plt"
   ]
  },
  {
   "cell_type": "code",
   "execution_count": 23,
   "id": "innocent-technique",
   "metadata": {},
   "outputs": [],
   "source": [
    "N = 12100\n",
    "I0 = 120 #число инфицированных\n",
    "R0 = 52 #здоровые с имунитетом\n",
    "S0 = N - I0 - R0 #здоровые, но восприимчивые к болезни\n",
    "a = 0.10 #коэф заболеваемости\n",
    "b = 0.05 #коеф выздоровления"
   ]
  },
  {
   "cell_type": "code",
   "execution_count": 24,
   "id": "certain-phenomenon",
   "metadata": {},
   "outputs": [],
   "source": [
    "#I(0)<=I*\n",
    "def syst(x, t):\n",
    "    return np.array([0, -b*x[1], b*x[1]])"
   ]
  },
  {
   "cell_type": "code",
   "execution_count": 25,
   "id": "boring-india",
   "metadata": {},
   "outputs": [],
   "source": [
    "#I(0)>I*\n",
    "def syst1(x, t):\n",
    "    return np.array([-a*x[0], a*x[0]-b*x[1], b*x[1]])"
   ]
  },
  {
   "cell_type": "code",
   "execution_count": 28,
   "id": "declared-texture",
   "metadata": {},
   "outputs": [],
   "source": [
    "t0 = 0\n",
    "x0 = np.array([S0, I0, R0])\n",
    "t = np.linspace(0, 200, 2000)\n",
    "\n",
    "y = odeint(syst, x0, t)"
   ]
  },
  {
   "cell_type": "code",
   "execution_count": 29,
   "id": "naked-passage",
   "metadata": {},
   "outputs": [
    {
     "data": {
      "image/png": "[encoded data removed]",
      "text/plain": [
       "<Figure size 432x288 with 1 Axes>"
      ]
     },
     "metadata": {
      "needs_background": "light"
     },
     "output_type": "display_data"
    }
   ],
   "source": [
    "plt.plot(t, y)\n",
    "plt.legend([\"S(t)\",\"I(t)\",\"R(t)\"])\n",
    "plt.show()"
   ]
  },
  {
   "cell_type": "code",
   "execution_count": null,
   "id": "headed-vehicle",
   "metadata": {},
   "outputs": [],
   "source": []
  }
 ],
 "metadata": {
  "kernelspec": {
   "display_name": "Python 3",
   "language": "python",
   "name": "python3"
  },
  "language_info": {
   "codemirror_mode": {
    "name": "ipython",
    "version": 3
   },
   "file_extension": ".py",
   "mimetype": "text/x-python",
   "name": "python",
   "nbconvert_exporter": "python",
   "pygments_lexer": "ipython3",
   "version": "3.9.2"
  }
 },
 "nbformat": 4,
 "nbformat_minor": 5
}
